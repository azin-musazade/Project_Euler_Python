{
 "cells": [
  {
   "cell_type": "code",
   "execution_count": 1,
   "metadata": {},
   "outputs": [
    {
     "data": {
      "text/plain": [
       "25164150"
      ]
     },
     "execution_count": 1,
     "metadata": {},
     "output_type": "execute_result"
    }
   ],
   "source": [
    "def ssn(n):\n",
    "    sum1 = 0\n",
    "    sum2 = 0\n",
    "    for i in range (1,(n+1)):\n",
    "        sum1 += i ** 2\n",
    "        sum2 += i \n",
    "    sum2power = sum2 ** 2\n",
    "    return sum2power - sum1\n",
    " \n",
    "ssn(100)      \n"
   ]
  }
 ],
 "metadata": {
  "interpreter": {
   "hash": "b8dbc3126c0f6a03491b46aa500dcb2500bda74294277620ea5624598781d407"
  },
  "kernelspec": {
   "display_name": "Python 3.9.7 ('base')",
   "language": "python",
   "name": "python3"
  },
  "language_info": {
   "codemirror_mode": {
    "name": "ipython",
    "version": 3
   },
   "file_extension": ".py",
   "mimetype": "text/x-python",
   "name": "python",
   "nbconvert_exporter": "python",
   "pygments_lexer": "ipython3",
   "version": "3.9.7"
  },
  "orig_nbformat": 4
 },
 "nbformat": 4,
 "nbformat_minor": 2
}
